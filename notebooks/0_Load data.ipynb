{
 "cells": [
  {
   "cell_type": "markdown",
   "metadata": {},
   "source": [
    "# Load data"
   ]
  },
  {
   "cell_type": "code",
   "execution_count": 10,
   "metadata": {},
   "outputs": [
    {
     "name": "stdout",
     "output_type": "stream",
     "text": [
      "The autoreload extension is already loaded. To reload it, use:\n",
      "  %reload_ext autoreload\n"
     ]
    }
   ],
   "source": [
    "%load_ext autoreload\n",
    "%autoreload 2"
   ]
  },
  {
   "cell_type": "markdown",
   "metadata": {},
   "source": [
    "We assume you already have a folder called `workspace` that contains zipped dataset."
   ]
  },
  {
   "cell_type": "code",
   "execution_count": 2,
   "metadata": {},
   "outputs": [
    {
     "name": "stdout",
     "output_type": "stream",
     "text": [
      "/mnt/d/courses/RANSAC-Flow/notebooks/workspace\n"
     ]
    }
   ],
   "source": [
    "%cd ../notebooks/workspace"
   ]
  },
  {
   "cell_type": "code",
   "execution_count": 9,
   "metadata": {},
   "outputs": [],
   "source": [
    "import logging\n",
    "\n",
    "logging.basicConfig(\n",
    "    level=logging.DEBUG,\n",
    "    format=\"[%(asctime)s] %(name)s :: %(levelname)s :: %(message)s\",\n",
    "    handlers=[logging.StreamHandler()],\n",
    ")\n"
   ]
  },
  {
   "cell_type": "markdown",
   "metadata": {},
   "source": [
    "We organize training and validation dataset into [`LightningDataModule`](https://pytorch-lightning.readthedocs.io/en/latest/guides/data.html#why-lightningdatamodules).\n",
    "This is a thin wrapper around map-style PyTorch datasets and their corresponding data loader.\n",
    "\n",
    "The following script load the MegaDepth training set explicitly."
   ]
  },
  {
   "cell_type": "code",
   "execution_count": 78,
   "metadata": {},
   "outputs": [
    {
     "name": "stdout",
     "output_type": "stream",
     "text": [
      "20000 files\n",
      "[<ZipInfo filename='train/13747/3.jpg' compress_type=deflate filemode='?rw-------' file_size=39120 compress_size=37516>, <ZipInfo filename='train/13747/1.jpg' compress_type=deflate filemode='?rw-------' file_size=62525 compress_size=62389>, <ZipInfo filename='train/13747/2.jpg' compress_type=deflate filemode='?rw-------' file_size=53209 compress_size=52965>]\n",
      "(480, 592, 3)\n",
      "[<ZipInfo filename='train/4309/1.jpg' compress_type=deflate filemode='?rw-------' file_size=44511 compress_size=44330>, <ZipInfo filename='train/4309/3.jpg' compress_type=deflate filemode='?rw-------' file_size=38324 compress_size=38108>, <ZipInfo filename='train/4309/2.jpg' compress_type=deflate filemode='?rw-------' file_size=36238 compress_size=33383>]\n",
      "(608, 480, 3)\n"
     ]
    }
   ],
   "source": [
    "from ransacflow.data.megadepth import MegaDepthTrainingDataset\n",
    "\n",
    "data = MegaDepthTrainingDataset(\"MegaDepth_cleansed.zip\", \"train\")\n",
    "print(f\"{len(data)} files\")\n",
    "\n",
    "print(data[0][0].shape)\n",
    "print(data[1][1].shape)"
   ]
  }
 ],
 "metadata": {
  "interpreter": {
   "hash": "ab9a4cd533c26959fc5e643c878bb3c1316795e5debd5e7351e48820d8136be1"
  },
  "kernelspec": {
   "display_name": "Python 3.8.12 64-bit ('ransacflow': conda)",
   "language": "python",
   "name": "python3"
  },
  "language_info": {
   "codemirror_mode": {
    "name": "ipython",
    "version": 3
   },
   "file_extension": ".py",
   "mimetype": "text/x-python",
   "name": "python",
   "nbconvert_exporter": "python",
   "pygments_lexer": "ipython3",
   "version": "3.8.12"
  },
  "orig_nbformat": 4
 },
 "nbformat": 4,
 "nbformat_minor": 2
}
