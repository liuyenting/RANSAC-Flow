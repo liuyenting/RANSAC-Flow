{
 "cells": [
  {
   "cell_type": "markdown",
   "metadata": {},
   "source": [
    "# Training fine flow prediction\n",
    "Assuming source image $I_s$ and target image $I_t$ are already coarsely aligned, this notebook will try to predict a fine flow $F_{s\\rightarrow t}$ between them. \n",
    "\n",
    "TODO describe objective functions used in this project"
   ]
  },
  {
   "cell_type": "markdown",
   "metadata": {},
   "source": [
    "We assume you already have a folder called `workspace` that contains zipped dataset."
   ]
  },
  {
   "cell_type": "code",
   "execution_count": null,
   "metadata": {},
   "outputs": [],
   "source": [
    "%cd ../notebooks/workspace"
   ]
  },
  {
   "cell_type": "markdown",
   "metadata": {},
   "source": [
    "This cell will run all stages."
   ]
  },
  {
   "cell_type": "code",
   "execution_count": null,
   "metadata": {},
   "outputs": [],
   "source": [
    "from pytorch_lightning import Trainer\n",
    "from pytorch_lightning.callback import EarlyStoppping\n",
    "from pytorch_lightning.loggers import TensorBoardLogger\n",
    "\n",
    "from ransacflow.data import MegaDepthDataModule\n",
    "from ransacflow.train import RANSACFlowModel\n",
    "\n",
    "if __name__ == \"__main__\":\n",
    "    ransac_flow = RANSACFlowModel()\n",
    "\n",
    "    # FIXME unify TB logging location and experiment name\n",
    "    trainer = Trainer(\n",
    "        logger=TensorBoardLogger('tb_logs', name='RANSAC-Flow'),\n",
    "        callbacks=[EarlyStoppping(monitor=\"val_loss\", min_delta=0.01, patience=3)]\n",
    "    )\n",
    "    trainer.fit(ransac_flow, MegaDepthDataModule)"
   ]
  },
  {
   "cell_type": "markdown",
   "metadata": {},
   "source": [
    "## Stage 1\n",
    "Only train the **reconstruction loss**."
   ]
  },
  {
   "cell_type": "code",
   "execution_count": null,
   "metadata": {},
   "outputs": [],
   "source": []
  },
  {
   "cell_type": "markdown",
   "metadata": {},
   "source": [
    "## Stage 2\n",
    "Train jointly the **reconstruction loss** and **cycle consistency of the flow**."
   ]
  },
  {
   "cell_type": "code",
   "execution_count": null,
   "metadata": {},
   "outputs": [],
   "source": []
  },
  {
   "cell_type": "markdown",
   "metadata": {},
   "source": [
    "## Stage 3\n",
    "Train all three losses together: **reconstruction loss**, **cycle consistency of the flow**, and **matchability loss**."
   ]
  },
  {
   "cell_type": "code",
   "execution_count": null,
   "metadata": {},
   "outputs": [],
   "source": []
  }
 ],
 "metadata": {
  "language_info": {
   "name": "python"
  },
  "orig_nbformat": 4
 },
 "nbformat": 4,
 "nbformat_minor": 2
}
