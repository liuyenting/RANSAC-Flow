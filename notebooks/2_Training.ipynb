{
 "cells": [
  {
   "cell_type": "markdown",
   "metadata": {},
   "source": [
    "# Training fine flow prediction\n",
    "Assuming source image $I_s$ and target image $I_t$ are already coarsely aligned, this notebook will try to predict a fine flow $F_{s\\rightarrow t}$ between them. \n",
    "\n",
    "TODO describe objective functions used in this project"
   ]
  },
  {
   "cell_type": "markdown",
   "metadata": {},
   "source": [
    "We assume you already have a folder called `workspace` that contains zipped dataset."
   ]
  },
  {
   "cell_type": "code",
   "execution_count": null,
   "metadata": {},
   "outputs": [],
   "source": [
    "%cd ../notebooks/workspace"
   ]
  },
  {
   "cell_type": "markdown",
   "metadata": {},
   "source": [
    "Import packages that we will use throughout this notebook."
   ]
  },
  {
   "cell_type": "code",
   "execution_count": null,
   "metadata": {},
   "outputs": [],
   "source": [
    "from pytorch_lightning import Trainer\n",
    "from pytorch_lightning.callback import EarlyStoppping\n",
    "from pytorch_lightning.loggers import TensorBoardLogger"
   ]
  },
  {
   "cell_type": "markdown",
   "metadata": {},
   "source": [
    "## Prepare dataset\n",
    "We already pack some datasets used in the original paper as `LightningDataModule`. We will import it here."
   ]
  },
  {
   "cell_type": "code",
   "execution_count": null,
   "metadata": {},
   "outputs": [],
   "source": [
    "from ransacflow.data import MegaDepthDataModule"
   ]
  },
  {
   "cell_type": "code",
   "execution_count": null,
   "metadata": {},
   "outputs": [],
   "source": [
    "#TODO add some sanity check for the dataset here, previews"
   ]
  },
  {
   "cell_type": "code",
   "execution_count": null,
   "metadata": {},
   "outputs": [],
   "source": [
    "# TODO setup environments for the following training sessions, how?"
   ]
  },
  {
   "cell_type": "markdown",
   "metadata": {},
   "source": [
    "## Stage 1\n",
    "Only train the **reconstruction loss**."
   ]
  },
  {
   "cell_type": "code",
   "execution_count": null,
   "metadata": {},
   "outputs": [],
   "source": [
    "from ransacflow.train import RANSACFlowModelStage1\n",
    "\n",
    "ransac_flow = RANSACFlowModelStage1(alpha=0, beta=0, gamma=0, kernel_size=7, lr=2e-4)\n",
    "\n",
    "# FIXME unify TB logging location and experiment name\n",
    "trainer = Trainer(\n",
    "    max_epochs=200,\n",
    "    logger=TensorBoardLogger(\"tb_logs\", name=\"RANSAC-Flow\"),\n",
    "    callbacks=[EarlyStoppping(monitor=\"val_loss\", min_delta=0.01, patience=3)],\n",
    ")\n",
    "trainer.fit(ransac_flow, MegaDepthDataModule)\n"
   ]
  },
  {
   "cell_type": "markdown",
   "metadata": {},
   "source": [
    "All following command line interface are copied from the original implementation, temporarily."
   ]
  },
  {
   "cell_type": "code",
   "execution_count": null,
   "metadata": {},
   "outputs": [],
   "source": [
    "    --nEpochs 200 \n",
    "    --lr 2e-4\n",
    "    --kernelSize 7 \n",
    "--imgSize 224 \n",
    "--batchSize 16 \n",
    "    --lambda-match 0.0, alpha \n",
    "    --mu-cycle 0.0, beta \n",
    "    --grad 0.0, gamma  \n",
    "    --trainMode flow \n",
    "--margin 88 "
   ]
  },
  {
   "cell_type": "markdown",
   "metadata": {},
   "source": [
    "## Stage 2\n",
    "Train jointly the **reconstruction loss** and **cycle consistency of the flow**."
   ]
  },
  {
   "cell_type": "code",
   "execution_count": null,
   "metadata": {},
   "outputs": [],
   "source": [
    "from ransacflow.train import RANSACFlowModelStage2\n",
    "\n",
    "ransac_flow = RANSACFlowModelStage1(alpha=0, beta=1, gamma=0, kernel_size=7, lr=2e-4)\n",
    "\n",
    "# FIXME unify TB logging location and experiment name\n",
    "trainer = Trainer(\n",
    "    max_epochs=50,\n",
    "    logger=TensorBoardLogger(\"tb_logs\", name=\"RANSAC-Flow_stage2\"),\n",
    "    callbacks=[EarlyStoppping(monitor=\"val_loss\", min_delta=0.01, patience=3)],\n",
    ")\n",
    "trainer.fit(ransac_flow, MegaDepthDataModule)"
   ]
  },
  {
   "cell_type": "code",
   "execution_count": null,
   "metadata": {},
   "outputs": [],
   "source": [
    "\n",
    "    --nEpochs 50 \n",
    "    --lr 2e-4 \n",
    "    --kernelSize 7 \n",
    "--imgSize 224 \n",
    "--batchSize 16 \n",
    "    --lambda-match 0.0, alpha\n",
    "    --mu-cycle 1.0, beta\n",
    "    --grad 0.0, gamma\n",
    "    --trainMode flow \n",
    "--margin 88 "
   ]
  },
  {
   "cell_type": "markdown",
   "metadata": {},
   "source": [
    "## Stage 3\n",
    "Train all three losses together: **reconstruction loss**, **cycle consistency of the flow**, and **matchability loss**."
   ]
  },
  {
   "cell_type": "code",
   "execution_count": null,
   "metadata": {},
   "outputs": [],
   "source": [
    "from ransacflow.train import RANSACFlowModelStage3\n",
    "\n",
    "ransac_flow = RANSACFlowModelStage3(alpha=0.01, beta=1, gamma=0, kernel_size=7, lr=2e-4)\n",
    "\n",
    "# FIXME unify TB logging location and experiment name\n",
    "trainer = Trainer(\n",
    "    max_epochs=50,\n",
    "    logger=TensorBoardLogger(\"tb_logs\", name=\"RANSAC-Flow_stage3\"),\n",
    "    callbacks=[EarlyStoppping(monitor=\"val_loss\", min_delta=0.01, patience=3)],\n",
    ")\n",
    "trainer.fit(ransac_flow, MegaDepthDataModule)\n"
   ]
  },
  {
   "cell_type": "code",
   "execution_count": null,
   "metadata": {},
   "outputs": [],
   "source": [
    "    --nEpochs 50 \n",
    "    --lr 2e-4\n",
    "    --kernelSize 7 \n",
    "--imgSize 224 \n",
    "--batchSize 16 \n",
    "    --lambda-match 0.01, alpha\n",
    "    --mu-cycle 1.0, beta\n",
    "    --grad 0.0, gamma\n",
    "    --trainMode flow+match \n",
    "--margin 88 \n"
   ]
  },
  {
   "cell_type": "markdown",
   "metadata": {},
   "source": [
    "## Stage 4.1\n",
    "This additional stage fine tune on SOMETHING MAGICAL, so the output image introduce less distortions.\n",
    "\n",
    "TODO need to update description from the original paper"
   ]
  },
  {
   "cell_type": "code",
   "execution_count": null,
   "metadata": {},
   "outputs": [],
   "source": []
  },
  {
   "cell_type": "markdown",
   "metadata": {},
   "source": [
    "## Stage 4.2\n",
    "This additional stage uses perceptual loss, \n",
    "\n",
    "TODO add description about why and how to use perceptual loss"
   ]
  },
  {
   "cell_type": "code",
   "execution_count": null,
   "metadata": {},
   "outputs": [],
   "source": []
  }
 ],
 "metadata": {
  "kernelspec": {
   "display_name": "Python 3 (ipykernel)",
   "language": "python",
   "name": "python3"
  },
  "language_info": {
   "codemirror_mode": {
    "name": "ipython",
    "version": 3
   },
   "file_extension": ".py",
   "mimetype": "text/x-python",
   "name": "python",
   "nbconvert_exporter": "python",
   "pygments_lexer": "ipython3",
   "version": "3.7.11"
  }
 },
 "nbformat": 4,
 "nbformat_minor": 2
}
