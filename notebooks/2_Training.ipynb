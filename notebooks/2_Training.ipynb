{
 "cells": [
  {
   "cell_type": "markdown",
   "metadata": {},
   "source": [
    "# Training fine flow prediction\n",
    "Assuming source image $I_s$ and target image $I_t$ are already coarsely aligned, this notebook will try to predict a fine flow $F_{s\\rightarrow t}$ between them. \n",
    "\n",
    "TODO describe objective functions used in this project"
   ]
  },
  {
   "cell_type": "code",
   "execution_count": 1,
   "metadata": {},
   "outputs": [],
   "source": [
    "%load_ext autoreload\n",
    "%autoreload 2"
   ]
  },
  {
   "cell_type": "markdown",
   "metadata": {},
   "source": [
    "We assume you already have a zipped dataset in `data` folder."
   ]
  },
  {
   "cell_type": "code",
   "execution_count": 2,
   "metadata": {},
   "outputs": [
    {
     "name": "stdout",
     "output_type": "stream",
     "text": [
      "/mnt/d/courses/RANSAC-Flow/notebooks/workspace\n"
     ]
    }
   ],
   "source": [
    "%cd workspace\n",
    "!ln -s ../data/MegaDepth_cleansed.zip MegaDepth_cleansed.zip"
   ]
  },
  {
   "cell_type": "markdown",
   "metadata": {},
   "source": [
    "If you are working in Google Colab, you might find this cell useful. \n",
    "It performs \n",
    "\n",
    "0. Sanity check if you are using Google Colab\n",
    "1. Mount Google Drive. \n",
    "2. Assume you have a folder `RANSAC-Flow` that is equivalent to this repository, which contains `data` folder.\n",
    "3. Copy the dataset to `/tmp` "
   ]
  },
  {
   "cell_type": "code",
   "execution_count": 6,
   "metadata": {},
   "outputs": [
    {
     "ename": "RuntimeError",
     "evalue": "not running on Google Colab",
     "output_type": "error",
     "traceback": [
      "\u001b[0;31m---------------------------------------------------------------------------\u001b[0m",
      "\u001b[0;31mRuntimeError\u001b[0m                              Traceback (most recent call last)",
      "\u001b[0;32m/tmp/ipykernel_11461/2045035195.py\u001b[0m in \u001b[0;36m<module>\u001b[0;34m\u001b[0m\n\u001b[1;32m      6\u001b[0m \u001b[0;32mfinally\u001b[0m\u001b[0;34m:\u001b[0m\u001b[0;34m\u001b[0m\u001b[0;34m\u001b[0m\u001b[0m\n\u001b[1;32m      7\u001b[0m     \u001b[0;32mif\u001b[0m \u001b[0;32mnot\u001b[0m \u001b[0mIN_COLAB\u001b[0m\u001b[0;34m:\u001b[0m\u001b[0;34m\u001b[0m\u001b[0;34m\u001b[0m\u001b[0m\n\u001b[0;32m----> 8\u001b[0;31m         \u001b[0;32mraise\u001b[0m \u001b[0mRuntimeError\u001b[0m\u001b[0;34m(\u001b[0m\u001b[0;34m'not running on Google Colab'\u001b[0m\u001b[0;34m)\u001b[0m\u001b[0;34m\u001b[0m\u001b[0;34m\u001b[0m\u001b[0m\n\u001b[0m\u001b[1;32m      9\u001b[0m \u001b[0;34m\u001b[0m\u001b[0m\n\u001b[1;32m     10\u001b[0m \u001b[0;31m# 1.\u001b[0m\u001b[0;34m\u001b[0m\u001b[0;34m\u001b[0m\u001b[0;34m\u001b[0m\u001b[0m\n",
      "\u001b[0;31mRuntimeError\u001b[0m: not running on Google Colab"
     ]
    }
   ],
   "source": [
    "# 0.\n",
    "try:\n",
    "    import google.colab\n",
    "    IN_COLAB = True\n",
    "except ModuleNotFoundError:\n",
    "    IN_COLAB = False\n",
    "finally:\n",
    "    if not IN_COLAB:\n",
    "        raise RuntimeError('not running on Google Colab')\n",
    "\n",
    "# 1.\n",
    "from google.colab import drive\n",
    "drive.mount('/content/drive')\n",
    "\n",
    "# 2. \n",
    "%cd /content/drive/MyDrive/RANSAC-Flow\n",
    "\n",
    "# 3.\n",
    "!rsync -ah --progress data/MegaDepth_cleansed.zip /tmp\n",
    "!ln -s /tmp/MegaDepth_cleansed.zip MegaDepth_cleansed.zip"
   ]
  },
  {
   "cell_type": "markdown",
   "metadata": {},
   "source": [
    "Import packages that we will use throughout this notebook."
   ]
  },
  {
   "cell_type": "code",
   "execution_count": 3,
   "metadata": {},
   "outputs": [],
   "source": [
    "from pytorch_lightning import Trainer\n",
    "from pytorch_lightning.callbacks import EarlyStopping\n",
    "from pytorch_lightning.loggers import TensorBoardLogger"
   ]
  },
  {
   "cell_type": "markdown",
   "metadata": {},
   "source": [
    "We enable logging here to make debug easier. "
   ]
  },
  {
   "cell_type": "code",
   "execution_count": 4,
   "metadata": {},
   "outputs": [],
   "source": [
    "import logging\n",
    "\n",
    "logging.basicConfig(\n",
    "    level=logging.INFO,\n",
    "    format=\"[%(asctime)s] %(name)s :: %(levelname)s :: %(message)s\",\n",
    "    handlers=[logging.StreamHandler()],\n",
    ")\n",
    "\n",
    "# fine tune submodules log level\n",
    "logging.getLogger(\"ransacflow\").setLevel(logging.WARNING)\n",
    "logging.getLogger('ransacflow.data').setLevel(logging.WARNING)"
   ]
  },
  {
   "cell_type": "markdown",
   "metadata": {},
   "source": [
    "## Prepare dataset\n",
    "We already pack some datasets used in the original paper as `LightningDataModule`. We will import it here."
   ]
  },
  {
   "cell_type": "code",
   "execution_count": 5,
   "metadata": {},
   "outputs": [],
   "source": [
    "from ransacflow.data import MegaDepthDataModule\n",
    "\n",
    "mega_depth = MegaDepthDataModule(\n",
    "    \"MegaDepth_cleansed.zip\",\n",
    "    train_image_size=224,\n",
    "    train_batch_size=2,\n",
    "    val_image_size=480,\n",
    ")"
   ]
  },
  {
   "cell_type": "code",
   "execution_count": null,
   "metadata": {},
   "outputs": [],
   "source": [
    "#TODO add some sanity check for the dataset here, previews"
   ]
  },
  {
   "cell_type": "code",
   "execution_count": null,
   "metadata": {},
   "outputs": [],
   "source": [
    "# TODO setup environments for the following training sessions, how?"
   ]
  },
  {
   "cell_type": "code",
   "execution_count": null,
   "metadata": {},
   "outputs": [],
   "source": [
    "# FIXME is it possible to share the Trainer object across all 3 stages"
   ]
  },
  {
   "cell_type": "markdown",
   "metadata": {},
   "source": [
    "## Stage 1\n",
    "Only train the **reconstruction loss**. \n",
    "\n",
    "It is based on the idea that source image $I_s$ warped with the predicted flow $F_{s\\rightarrow t}$ should align well with the target image $I_t$. In the original work, they use the structural similarity (SSIM) as the perception model. \n",
    "$$ L_{\\text{recon}}\\left(I_s, I_t\\right) = \\sum_{(x,y)\\in I_t} M_t^{\\text{cycle}}(x,y) \\left( 1 - \\text{SSIM}\\left\\lbrace I_s(x^\\prime, y^\\prime), I_t(x,y) \\right\\rbrace \\right) $$\n",
    "\n",
    "FIXME wtf is M_t doing here?"
   ]
  },
  {
   "cell_type": "code",
   "execution_count": 5,
   "metadata": {},
   "outputs": [
    {
     "name": "stderr",
     "output_type": "stream",
     "text": [
      "GPU available: True, used: True\n",
      "TPU available: False, using: 0 TPU cores\n",
      "IPU available: False, using: 0 IPUs\n",
      "[2021-12-28 01:56:45,456] ransacflow.data.megadepth :: WARNING :: file integrity is not explicitly tested\n",
      "[2021-12-28 01:56:46,812] ransacflow.data.megadepth :: WARNING :: file integrity is not explicitly tested\n",
      "LOCAL_RANK: 0 - CUDA_VISIBLE_DEVICES: [0]\n",
      "\n",
      "  | Name              | Type                  | Params\n",
      "------------------------------------------------------------\n",
      "0 | feature_extractor | FeatureExtractor      | 2.8 M \n",
      "1 | correlator        | NeighborCorrelator    | 0     \n",
      "2 | flow              | FlowPredictor         | 1.8 M \n",
      "3 | matchability      | MatchabilityPredictor | 1.7 M \n",
      "4 | loss_rec          | ReconstructionLoss    | 0     \n",
      "------------------------------------------------------------\n",
      "6.2 M     Trainable params\n",
      "0         Non-trainable params\n",
      "6.2 M     Total params\n",
      "24.948    Total estimated model params size (MB)\n"
     ]
    },
    {
     "data": {
      "application/vnd.jupyter.widget-view+json": {
       "model_id": "39cfa9aa7f1f49ee9aeb4ca59de319f6",
       "version_major": 2,
       "version_minor": 0
      },
      "text/plain": [
       "Validation sanity check: 0it [00:00, ?it/s]"
      ]
     },
     "metadata": {},
     "output_type": "display_data"
    },
    {
     "name": "stderr",
     "output_type": "stream",
     "text": [
      "/home/andy/.conda/envs/ransacflow/lib/python3.8/site-packages/torch/nn/functional.py:4065: UserWarning: Default grid_sample and affine_grid behavior has changed to align_corners=False since 1.3.0. Please specify align_corners=True if the old behavior is desired. See the documentation of grid_sample for details.\n",
      "  warnings.warn(\n",
      "/home/andy/.conda/envs/ransacflow/lib/python3.8/site-packages/torch/nn/functional.py:4003: UserWarning: Default grid_sample and affine_grid behavior has changed to align_corners=False since 1.3.0. Please specify align_corners=True if the old behavior is desired. See the documentation of grid_sample for details.\n",
      "  warnings.warn(\n",
      "/home/andy/.conda/envs/ransacflow/lib/python3.8/site-packages/torch/nn/functional.py:3631: UserWarning: Default upsampling behavior when mode=bilinear is changed to align_corners=False since 0.4.0. Please specify align_corners=True if the old behavior is desired. See the documentation of nn.Upsample for details.\n",
      "  warnings.warn(\n"
     ]
    },
    {
     "name": "stdout",
     "output_type": "stream",
     "text": [
      "prec@1.0=0.01299\n",
      "prec@2.0=0.02374\n",
      "prec@3.0=0.06696\n",
      "prec@5.0=0.16304\n",
      "prec@8.0=0.27748\n",
      "prec@13.0=0.47905\n",
      "prec@22.0=0.82621\n",
      "prec@36.0=1.00000\n"
     ]
    },
    {
     "data": {
      "application/vnd.jupyter.widget-view+json": {
       "model_id": "e5e9d3ff15e34d22bf485ab21d9ba14b",
       "version_major": 2,
       "version_minor": 0
      },
      "text/plain": [
       "Training: 0it [00:00, ?it/s]"
      ]
     },
     "metadata": {},
     "output_type": "display_data"
    },
    {
     "name": "stderr",
     "output_type": "stream",
     "text": [
      "/home/andy/.conda/envs/ransacflow/lib/python3.8/site-packages/pytorch_lightning/trainer/trainer.py:685: UserWarning: Detected KeyboardInterrupt, attempting graceful shutdown...\n",
      "  rank_zero_warn(\"Detected KeyboardInterrupt, attempting graceful shutdown...\")\n"
     ]
    }
   ],
   "source": [
    "# DEBUG somehow dataset needs to reload everythime for correct coords\n",
    "from ransacflow.data import MegaDepthDataModule\n",
    "\n",
    "mega_depth = MegaDepthDataModule(\n",
    "    \"MegaDepth_cleansed.zip\",\n",
    "    train_image_size=224,\n",
    "    train_batch_size=4,\n",
    "    val_image_size=480,\n",
    "    num_workers=8\n",
    ")\n",
    "\n",
    "## parameter names\n",
    "\n",
    "log_dir = \"MegaDepth_logs\"\n",
    "\n",
    "##\n",
    "\n",
    "from ransacflow.train import RANSACFlowModelStage1\n",
    "\n",
    "ransac_flow = RANSACFlowModelStage1(\n",
    "    alpha=0, beta=0, gamma=0, kernel_size=7, ssim_window_size=11, lr=2e-4,\n",
    ")\n",
    "\n",
    "# FIXME unify TB logging location and experiment name\n",
    "trainer = Trainer(\n",
    "    gpus=-1,\n",
    "    fast_dev_run=False,\n",
    "    max_epochs=200,\n",
    "    val_check_interval=0.25,\n",
    "    logger=TensorBoardLogger(log_dir, name=\"stage1\"),\n",
    "    callbacks=[EarlyStopping(monitor=\"val_loss\", min_delta=0.01, patience=3)],\n",
    ")\n",
    "trainer.fit(ransac_flow, mega_depth)\n"
   ]
  },
  {
   "cell_type": "markdown",
   "metadata": {},
   "source": [
    "All following command line interface are copied from the original implementation, temporarily."
   ]
  },
  {
   "cell_type": "code",
   "execution_count": null,
   "metadata": {},
   "outputs": [],
   "source": [
    "    --nEpochs 200 \n",
    "    --lr 2e-4\n",
    "    --kernelSize 7 \n",
    "--imgSize 224 \n",
    "--batchSize 16 \n",
    "    --lambda-match 0.0, alpha \n",
    "    --mu-cycle 0.0, beta \n",
    "    --grad 0.0, gamma  \n",
    "    --trainMode flow \n",
    "--margin 88 "
   ]
  },
  {
   "cell_type": "markdown",
   "metadata": {},
   "source": [
    "## Stage 2\n",
    "Train jointly the **reconstruction loss** and **cycle consistency of the flow**.\n",
    "\n",
    "Asides from the reconstruction loss mentioned in previous stage, we start to enforce cycle consistency of the flow by\n",
    "$$ L_{\\text{cycle}} = \\sum_{(x,y) \\in I_t} M_t^{\\text{circle}} (x,y) \\left\\lVert \\left(x^\\prime, y^\\prime \\right), \\bm{F}_{t\\rightarrow s}(x,y) \\right\\rVert_2 $$\n",
    "\n",
    "FIXME what happened with (x^\\prime, y^\\prime), F_{t->s}? Are they multiplied?"
   ]
  },
  {
   "cell_type": "code",
   "execution_count": null,
   "metadata": {},
   "outputs": [],
   "source": [
    "from ransacflow.train import RANSACFlowModelStage2\n",
    "\n",
    "ransac_flow = RANSACFlowModelStage2(alpha=0, beta=1, gamma=0, kernel_size=7, lr=2e-4)\n",
    "\n",
    "# FIXME unify TB logging location and experiment name\n",
    "trainer = Trainer(\n",
    "    max_epochs=50,\n",
    "    logger=TensorBoardLogger(\"tb_logs\", name=\"RANSAC-Flow_stage2\"),\n",
    "    callbacks=[EarlyStoppping(monitor=\"val_loss\", min_delta=0.01, patience=3)],\n",
    ")\n",
    "trainer.fit(ransac_flow, MegaDepthDataModule)"
   ]
  },
  {
   "cell_type": "code",
   "execution_count": null,
   "metadata": {},
   "outputs": [],
   "source": [
    "\n",
    "    --nEpochs 50 \n",
    "    --lr 2e-4 \n",
    "    --kernelSize 7 \n",
    "--imgSize 224 \n",
    "--batchSize 16 \n",
    "    --lambda-match 0.0, alpha\n",
    "    --mu-cycle 1.0, beta\n",
    "    --grad 0.0, gamma\n",
    "    --trainMode flow \n",
    "--margin 88 "
   ]
  },
  {
   "cell_type": "markdown",
   "metadata": {},
   "source": [
    "## Stage 3\n",
    "Train all three losses together: **reconstruction loss**, **cycle consistency of the flow**, and **matchability loss**.\n",
    "\n",
    "Matchability mask can be seen as pixel-wise weights for the reconstruction and cycle consistency loss. These losses encourage th matchability to be zero. To counteract this effect, the matchability loss encourages the matchability mask to be close to one.\n",
    "\n",
    "FIXME equation for matchability\n",
    "FIXME still doesn't understand what matchability actually implies, what is the difference between this and cycle loss?"
   ]
  },
  {
   "cell_type": "code",
   "execution_count": null,
   "metadata": {},
   "outputs": [],
   "source": [
    "from ransacflow.train import RANSACFlowModelStage3\n",
    "\n",
    "ransac_flow = RANSACFlowModelStage3(alpha=0.01, beta=1, gamma=0, kernel_size=7, lr=2e-4)\n",
    "\n",
    "# FIXME unify TB logging location and experiment name\n",
    "trainer = Trainer(\n",
    "    max_epochs=50,\n",
    "    logger=TensorBoardLogger(\"tb_logs\", name=\"RANSAC-Flow_stage3\"),\n",
    "    callbacks=[EarlyStoppping(monitor=\"val_loss\", min_delta=0.01, patience=3)],\n",
    ")\n",
    "trainer.fit(ransac_flow, MegaDepthDataModule)\n"
   ]
  },
  {
   "cell_type": "code",
   "execution_count": null,
   "metadata": {},
   "outputs": [],
   "source": [
    "    --nEpochs 50 \n",
    "    --lr 2e-4\n",
    "    --kernelSize 7 \n",
    "--imgSize 224 \n",
    "--batchSize 16 \n",
    "    --lambda-match 0.01, alpha\n",
    "    --mu-cycle 1.0, beta\n",
    "    --grad 0.0, gamma\n",
    "    --trainMode flow+match \n",
    "--margin 88 \n"
   ]
  },
  {
   "cell_type": "markdown",
   "metadata": {},
   "source": [
    "## Stage 4.1\n",
    "This additional stage fine tune on SOMETHING MAGICAL, so the output image introduce less distortions.\n",
    "\n",
    "TODO need to update description from the original paper"
   ]
  },
  {
   "cell_type": "code",
   "execution_count": null,
   "metadata": {},
   "outputs": [],
   "source": []
  },
  {
   "cell_type": "markdown",
   "metadata": {},
   "source": [
    "## Stage 4.2\n",
    "This additional stage uses perceptual loss, \n",
    "\n",
    "TODO add description about why and how to use perceptual loss"
   ]
  },
  {
   "cell_type": "code",
   "execution_count": null,
   "metadata": {},
   "outputs": [],
   "source": []
  }
 ],
 "metadata": {
  "kernelspec": {
   "display_name": "Python 3 (ipykernel)",
   "language": "python",
   "name": "python3"
  },
  "language_info": {
   "codemirror_mode": {
    "name": "ipython",
    "version": 3
   },
   "file_extension": ".py",
   "mimetype": "text/x-python",
   "name": "python",
   "nbconvert_exporter": "python",
   "pygments_lexer": "ipython3",
   "version": "3.8.12"
  }
 },
 "nbformat": 4,
 "nbformat_minor": 2
}
