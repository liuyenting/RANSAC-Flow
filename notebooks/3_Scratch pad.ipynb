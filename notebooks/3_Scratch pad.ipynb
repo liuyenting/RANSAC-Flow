{
 "cells": [
  {
   "cell_type": "code",
   "execution_count": 1,
   "metadata": {},
   "outputs": [],
   "source": [
    "%load_ext autoreload\n",
    "%autoreload 2"
   ]
  },
  {
   "cell_type": "code",
   "execution_count": 2,
   "metadata": {},
   "outputs": [],
   "source": [
    "from itertools import product\n",
    "import torch.nn as nn\n",
    "import torch\n",
    "import torch.nn.functional as F"
   ]
  },
  {
   "cell_type": "code",
   "execution_count": 3,
   "metadata": {},
   "outputs": [],
   "source": [
    "# imports from this project\n",
    "from ransacflow.model import FeatureExtractor"
   ]
  },
  {
   "cell_type": "code",
   "execution_count": 4,
   "metadata": {},
   "outputs": [],
   "source": [
    "kernelSize = 7\n",
    "imageSize = 224\n",
    "batchSize = 1\n"
   ]
  },
  {
   "cell_type": "code",
   "execution_count": 32,
   "metadata": {},
   "outputs": [
    {
     "name": "stdout",
     "output_type": "stream",
     "text": [
      "torch.Size([1, 256, 28, 28])\n"
     ]
    }
   ],
   "source": [
    "feature_extractor = FeatureExtractor()\n",
    "\n",
    "f1 = feature_extractor(I1)\n",
    "print(f1.shape)"
   ]
  },
  {
   "cell_type": "code",
   "execution_count": 5,
   "metadata": {},
   "outputs": [
    {
     "name": "stdout",
     "output_type": "stream",
     "text": [
      "torch.Size([1, 256, 28, 28])\n"
     ]
    }
   ],
   "source": [
    "f1 = torch.randint(1, 28+1, (256, 28, 28), dtype=torch.float32)\n",
    "f1 = f1.unsqueeze(dim=0)\n",
    "print(f1.shape)"
   ]
  },
  {
   "cell_type": "code",
   "execution_count": 17,
   "metadata": {},
   "outputs": [
    {
     "name": "stdout",
     "output_type": "stream",
     "text": [
      "torch.Size([1, 49, 28, 28])\n",
      "tensor([0.7750, 0.7849, 0.8007, 0.7930, 0.7988])\n",
      "torch.Size([1, 49, 28, 28])\n",
      "tensor([0.7750, 0.7849, 0.8007, 0.7930, 0.7988])\n",
      "torch.Size([1, 49, 28, 28])\n",
      "tensor([0.7750, 0.7849, 0.8007, 0.7930, 0.7988])\n",
      "torch.Size([1, 49, 28, 28])\n",
      "tensor([0.7750, 0.7849, 0.8007, 0.7930, 0.7988])\n",
      "torch.Size([1, 49, 28, 28])\n",
      "tensor([0.7750, 0.7849, 0.8007, 0.7930, 0.7988])\n",
      "torch.Size([1, 49, 28, 28])\n",
      "tensor([0.7750, 0.7849, 0.8007, 0.7930, 0.7988])\n",
      "torch.Size([1, 49, 28, 28])\n",
      "tensor([0.7750, 0.7849, 0.8007, 0.7930, 0.7988])\n",
      "torch.Size([1, 49, 28, 28])\n",
      "tensor([0.7750, 0.7849, 0.8007, 0.7930, 0.7988])\n",
      "torch.Size([1, 49, 28, 28])\n",
      "tensor([0.7750, 0.7849, 0.8007, 0.7930, 0.7988])\n",
      "4.55 ms ± 296 µs per loop (mean ± std. dev. of 3 runs, 3 loops each)\n"
     ]
    }
   ],
   "source": [
    "%%timeit -n 3 -r 3\n",
    "\n",
    "x = y = F.normalize(f1)\n",
    "\n",
    "paddingSize = kernelSize // 2\n",
    "padding = nn.ZeroPad2d(paddingSize)\n",
    "\n",
    "w, h = x.size()[2:]\n",
    "coef = []\n",
    "y = padding(y)\n",
    "\n",
    "for i, j in product(range(kernelSize), range(kernelSize)):\n",
    "    #print(f\"i={i}, j={j}\")\n",
    "    coef.append(torch.sum(x * y.narrow(2, i, w).narrow(3, j, h), dim=1, keepdim=True))\n",
    "coef = torch.cat(coef, dim=1)\n",
    "print(coef.shape)\n",
    "print(coef[0, :5, 3, 3])"
   ]
  },
  {
   "cell_type": "code",
   "execution_count": 21,
   "metadata": {},
   "outputs": [
    {
     "name": "stdout",
     "output_type": "stream",
     "text": [
      "torch.Size([1, 49, 28, 28])\n",
      "tensor([0.7750, 0.7849, 0.8007, 0.7930, 0.7988])\n",
      "torch.Size([1, 49, 28, 28])\n",
      "tensor([0.7750, 0.7849, 0.8007, 0.7930, 0.7988])\n",
      "torch.Size([1, 49, 28, 28])\n",
      "tensor([0.7750, 0.7849, 0.8007, 0.7930, 0.7988])\n",
      "torch.Size([1, 49, 28, 28])\n",
      "tensor([0.7750, 0.7849, 0.8007, 0.7930, 0.7988])\n",
      "torch.Size([1, 49, 28, 28])\n",
      "tensor([0.7750, 0.7849, 0.8007, 0.7930, 0.7988])\n",
      "torch.Size([1, 49, 28, 28])\n",
      "tensor([0.7750, 0.7849, 0.8007, 0.7930, 0.7988])\n",
      "torch.Size([1, 49, 28, 28])\n",
      "tensor([0.7750, 0.7849, 0.8007, 0.7930, 0.7988])\n",
      "torch.Size([1, 49, 28, 28])\n",
      "tensor([0.7750, 0.7849, 0.8007, 0.7930, 0.7988])\n",
      "torch.Size([1, 49, 28, 28])\n",
      "tensor([0.7750, 0.7849, 0.8007, 0.7930, 0.7988])\n",
      "The slowest run took 4.07 times longer than the fastest. This could mean that an intermediate result is being cached.\n",
      "11.7 ms ± 8.08 ms per loop (mean ± std. dev. of 3 runs, 3 loops each)\n"
     ]
    }
   ],
   "source": [
    "%%timeit -n 3 -r 3\n",
    "\n",
    "from ransacflow.model import NeighborCorrelator\n",
    "\n",
    "corr = NeighborCorrelator(7)\n",
    "\n",
    "coef2 = corr(f1, f1)\n",
    "print(coef2.shape)\n",
    "print(coef[0, :5, 3, 3])"
   ]
  }
 ],
 "metadata": {
  "interpreter": {
   "hash": "ab9a4cd533c26959fc5e643c878bb3c1316795e5debd5e7351e48820d8136be1"
  },
  "kernelspec": {
   "display_name": "Python 3.8.12 64-bit ('ransacflow': conda)",
   "language": "python",
   "name": "python3"
  },
  "language_info": {
   "codemirror_mode": {
    "name": "ipython",
    "version": 3
   },
   "file_extension": ".py",
   "mimetype": "text/x-python",
   "name": "python",
   "nbconvert_exporter": "python",
   "pygments_lexer": "ipython3",
   "version": "3.8.12"
  },
  "orig_nbformat": 4
 },
 "nbformat": 4,
 "nbformat_minor": 2
}
