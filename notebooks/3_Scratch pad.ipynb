{
 "cells": [
  {
   "cell_type": "code",
   "execution_count": 1,
   "metadata": {},
   "outputs": [],
   "source": [
    "%load_ext autoreload\n",
    "%autoreload 2"
   ]
  },
  {
   "cell_type": "code",
   "execution_count": 2,
   "metadata": {},
   "outputs": [],
   "source": [
    "import torch"
   ]
  },
  {
   "cell_type": "code",
   "execution_count": 4,
   "metadata": {},
   "outputs": [],
   "source": [
    "kernelSize = 7\n",
    "imageSize = 224\n",
    "batchSize = 1\n",
    "\n",
    "paddingSize = kernelSize // 2"
   ]
  },
  {
   "cell_type": "code",
   "execution_count": 27,
   "metadata": {},
   "outputs": [],
   "source": [
    "from torchsummary import summary"
   ]
  },
  {
   "cell_type": "code",
   "execution_count": 28,
   "metadata": {},
   "outputs": [],
   "source": []
  },
  {
   "cell_type": "code",
   "execution_count": 31,
   "metadata": {},
   "outputs": [],
   "source": [
    "I = torch.empty((49, 28, 28))\n"
   ]
  },
  {
   "cell_type": "code",
   "execution_count": 33,
   "metadata": {},
   "outputs": [
    {
     "name": "stdout",
     "output_type": "stream",
     "text": [
      "----------------------------------------------------------------\n",
      "        Layer (type)               Output Shape         Param #\n",
      "================================================================\n",
      "            Conv2d-1          [-1, 512, 28, 28]         225,792\n",
      "       BatchNorm2d-2          [-1, 512, 28, 28]           1,024\n",
      "              ReLU-3          [-1, 512, 28, 28]               0\n",
      "            Conv2d-4          [-1, 256, 28, 28]       1,179,648\n",
      "       BatchNorm2d-5          [-1, 256, 28, 28]             512\n",
      "              ReLU-6          [-1, 256, 28, 28]               0\n",
      "            Conv2d-7          [-1, 128, 28, 28]         294,912\n",
      "       BatchNorm2d-8          [-1, 128, 28, 28]             256\n",
      "              ReLU-9          [-1, 128, 28, 28]               0\n",
      "           Conv2d-10            [-1, 1, 28, 28]           1,152\n",
      "          Sigmoid-11            [-1, 1, 28, 28]               0\n",
      "================================================================\n",
      "Total params: 1,703,296\n",
      "Trainable params: 1,703,296\n",
      "Non-trainable params: 0\n",
      "----------------------------------------------------------------\n",
      "Input size (MB): 0.15\n",
      "Forward/backward pass size (MB): 16.09\n",
      "Params size (MB): 6.50\n",
      "Estimated Total Size (MB): 22.73\n",
      "----------------------------------------------------------------\n"
     ]
    }
   ],
   "source": [
    "from ransacflow.model.model_orig import NetFlow\n",
    "m1 = NetFlow(7, 'netFlowCoarse').cuda()\n",
    "summary(m1, I.shape)"
   ]
  },
  {
   "cell_type": "code",
   "execution_count": 49,
   "metadata": {},
   "outputs": [
    {
     "name": "stdout",
     "output_type": "stream",
     "text": [
      "x.shape=torch.Size([2, 49, 28, 28])\n",
      "grid_x.shape=torch.Size([1, 49, 1, 1])\n",
      "flow_x.shape=torch.Size([2, 1, 28, 28])\n",
      "x.shape=torch.Size([2, 2, 28, 28])\n",
      "----------------------------------------------------------------\n",
      "        Layer (type)               Output Shape         Param #\n",
      "================================================================\n",
      "            Conv2d-1          [-1, 512, 28, 28]         225,792\n",
      "       BatchNorm2d-2          [-1, 512, 28, 28]           1,024\n",
      "              ReLU-3          [-1, 512, 28, 28]               0\n",
      "            Conv2d-4          [-1, 256, 28, 28]       1,179,648\n",
      "       BatchNorm2d-5          [-1, 256, 28, 28]             512\n",
      "              ReLU-6          [-1, 256, 28, 28]               0\n",
      "            Conv2d-7          [-1, 128, 28, 28]         294,912\n",
      "       BatchNorm2d-8          [-1, 128, 28, 28]             256\n",
      "              ReLU-9          [-1, 128, 28, 28]               0\n",
      "           Conv2d-10           [-1, 49, 28, 28]          56,448\n",
      "          Softmax-11           [-1, 49, 28, 28]               0\n",
      "================================================================\n",
      "Total params: 1,758,592\n",
      "Trainable params: 1,758,592\n",
      "Non-trainable params: 0\n",
      "----------------------------------------------------------------\n",
      "Input size (MB): 0.15\n",
      "Forward/backward pass size (MB): 16.66\n",
      "Params size (MB): 6.71\n",
      "Estimated Total Size (MB): 23.52\n",
      "----------------------------------------------------------------\n"
     ]
    }
   ],
   "source": [
    "from ransacflow.model import FlowPredictor, MatchabilityPredictor\n",
    "m2 = FlowPredictor(224, 7).cuda()\n",
    "summary(m2, I.shape)"
   ]
  }
 ],
 "metadata": {
  "interpreter": {
   "hash": "ab9a4cd533c26959fc5e643c878bb3c1316795e5debd5e7351e48820d8136be1"
  },
  "kernelspec": {
   "display_name": "Python 3.8.12 64-bit ('ransacflow': conda)",
   "language": "python",
   "name": "python3"
  },
  "language_info": {
   "codemirror_mode": {
    "name": "ipython",
    "version": 3
   },
   "file_extension": ".py",
   "mimetype": "text/x-python",
   "name": "python",
   "nbconvert_exporter": "python",
   "pygments_lexer": "ipython3",
   "version": "3.8.12"
  },
  "orig_nbformat": 4
 },
 "nbformat": 4,
 "nbformat_minor": 2
}
