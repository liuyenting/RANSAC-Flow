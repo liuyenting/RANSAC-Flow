{
 "cells": [
  {
   "cell_type": "code",
   "execution_count": 1,
   "metadata": {},
   "outputs": [],
   "source": [
    "%load_ext autoreload\n",
    "%autoreload 2"
   ]
  },
  {
   "cell_type": "code",
   "execution_count": 2,
   "metadata": {},
   "outputs": [],
   "source": [
    "import torch"
   ]
  },
  {
   "cell_type": "code",
   "execution_count": 4,
   "metadata": {},
   "outputs": [],
   "source": [
    "kernelSize = 7\n",
    "imageSize = 224\n",
    "batchSize = 1\n",
    "\n",
    "paddingSize = kernelSize // 2"
   ]
  },
  {
   "cell_type": "code",
   "execution_count": 27,
   "metadata": {},
   "outputs": [],
   "source": [
    "from torchsummary import summary"
   ]
  },
  {
   "cell_type": "code",
   "execution_count": 28,
   "metadata": {},
   "outputs": [],
   "source": []
  },
  {
   "cell_type": "code",
   "execution_count": 31,
   "metadata": {},
   "outputs": [],
   "source": [
    "I = torch.empty((49, 28, 28))\n"
   ]
  },
  {
   "cell_type": "code",
   "execution_count": 51,
   "metadata": {},
   "outputs": [
    {
     "name": "stdout",
     "output_type": "stream",
     "text": [
      "----------------------------------------------------------------\n",
      "        Layer (type)               Output Shape         Param #\n",
      "================================================================\n",
      "            Conv2d-1          [-1, 512, 28, 28]         225,792\n",
      "       BatchNorm2d-2          [-1, 512, 28, 28]           1,024\n",
      "              ReLU-3          [-1, 512, 28, 28]               0\n",
      "            Conv2d-4          [-1, 256, 28, 28]       1,179,648\n",
      "       BatchNorm2d-5          [-1, 256, 28, 28]             512\n",
      "              ReLU-6          [-1, 256, 28, 28]               0\n",
      "            Conv2d-7          [-1, 128, 28, 28]         294,912\n",
      "       BatchNorm2d-8          [-1, 128, 28, 28]             256\n",
      "              ReLU-9          [-1, 128, 28, 28]               0\n",
      "           Conv2d-10           [-1, 49, 28, 28]          56,448\n",
      "          Softmax-11           [-1, 49, 28, 28]               0\n",
      "================================================================\n",
      "Total params: 1,758,592\n",
      "Trainable params: 1,758,592\n",
      "Non-trainable params: 0\n",
      "----------------------------------------------------------------\n",
      "Input size (MB): 0.15\n",
      "Forward/backward pass size (MB): 16.66\n",
      "Params size (MB): 6.71\n",
      "Estimated Total Size (MB): 23.52\n",
      "----------------------------------------------------------------\n"
     ]
    },
    {
     "name": "stderr",
     "output_type": "stream",
     "text": [
      "/home/andy/.conda/envs/ransacflow/lib/python3.8/site-packages/torch/nn/functional.py:3847: UserWarning: nn.functional.upsample_bilinear is deprecated. Use nn.functional.interpolate instead.\n",
      "  warnings.warn(\"nn.functional.upsample_bilinear is deprecated. Use nn.functional.interpolate instead.\")\n"
     ]
    }
   ],
   "source": [
    "from ransacflow.model.model_orig import NetFlow\n",
    "m1 = NetFlow(7, 'netFlowCoarse').cuda()\n",
    "summary(m1, I.shape)"
   ]
  },
  {
   "cell_type": "code",
   "execution_count": 49,
   "metadata": {},
   "outputs": [
    {
     "name": "stdout",
     "output_type": "stream",
     "text": [
      "x.shape=torch.Size([2, 49, 28, 28])\n",
      "grid_x.shape=torch.Size([1, 49, 1, 1])\n",
      "flow_x.shape=torch.Size([2, 1, 28, 28])\n",
      "x.shape=torch.Size([2, 2, 28, 28])\n",
      "----------------------------------------------------------------\n",
      "        Layer (type)               Output Shape         Param #\n",
      "================================================================\n",
      "            Conv2d-1          [-1, 512, 28, 28]         225,792\n",
      "       BatchNorm2d-2          [-1, 512, 28, 28]           1,024\n",
      "              ReLU-3          [-1, 512, 28, 28]               0\n",
      "            Conv2d-4          [-1, 256, 28, 28]       1,179,648\n",
      "       BatchNorm2d-5          [-1, 256, 28, 28]             512\n",
      "              ReLU-6          [-1, 256, 28, 28]               0\n",
      "            Conv2d-7          [-1, 128, 28, 28]         294,912\n",
      "       BatchNorm2d-8          [-1, 128, 28, 28]             256\n",
      "              ReLU-9          [-1, 128, 28, 28]               0\n",
      "           Conv2d-10           [-1, 49, 28, 28]          56,448\n",
      "          Softmax-11           [-1, 49, 28, 28]               0\n",
      "================================================================\n",
      "Total params: 1,758,592\n",
      "Trainable params: 1,758,592\n",
      "Non-trainable params: 0\n",
      "----------------------------------------------------------------\n",
      "Input size (MB): 0.15\n",
      "Forward/backward pass size (MB): 16.66\n",
      "Params size (MB): 6.71\n",
      "Estimated Total Size (MB): 23.52\n",
      "----------------------------------------------------------------\n"
     ]
    }
   ],
   "source": [
    "from ransacflow.model import FlowPredictor, MatchabilityPredictor\n",
    "m2 = FlowPredictor(224, 7).cuda()\n",
    "summary(m2, I.shape)"
   ]
  },
  {
   "cell_type": "code",
   "execution_count": 2,
   "metadata": {},
   "outputs": [
    {
     "name": "stdout",
     "output_type": "stream",
     "text": [
      "[0 1 2 3 4 5]\n",
      "[3 4 5 0 1 2]\n"
     ]
    }
   ],
   "source": [
    "import numpy as np\n",
    "\n",
    "batchSize = 3\n",
    "index = np.arange(batchSize * 2)\n",
    "print(index)\n",
    "indexRoll = np.roll(index, batchSize)\n",
    "print(indexRoll)\n"
   ]
  },
  {
   "cell_type": "code",
   "execution_count": 4,
   "metadata": {},
   "outputs": [],
   "source": [
    "import torch"
   ]
  },
  {
   "cell_type": "code",
   "execution_count": 9,
   "metadata": {},
   "outputs": [],
   "source": [
    "imgSize = 5\n",
    "gridY = (\n",
    "    torch.linspace(-1, 1, steps=imgSize)\n",
    "    .view(1, -1, 1, 1)\n",
    "    .expand(1, imgSize, imgSize, 1)\n",
    ")\n",
    "gridX = (\n",
    "    torch.linspace(-1, 1, steps=imgSize)\n",
    "    .view(1, 1, -1, 1)\n",
    "    .expand(1, imgSize, imgSize, 1)\n",
    ")\n",
    "grid = torch.cat((gridX, gridY), dim=3).cuda()\n"
   ]
  },
  {
   "cell_type": "code",
   "execution_count": 6,
   "metadata": {},
   "outputs": [
    {
     "data": {
      "text/plain": [
       "torch.Size([1, 4, 4, 2])"
      ]
     },
     "execution_count": 6,
     "metadata": {},
     "output_type": "execute_result"
    }
   ],
   "source": [
    "grid.shape"
   ]
  },
  {
   "cell_type": "code",
   "execution_count": 11,
   "metadata": {},
   "outputs": [
    {
     "data": {
      "text/plain": [
       "tensor([[[-1.0000, -0.5000,  0.0000,  0.5000,  1.0000],\n",
       "         [-1.0000, -0.5000,  0.0000,  0.5000,  1.0000],\n",
       "         [-1.0000, -0.5000,  0.0000,  0.5000,  1.0000],\n",
       "         [-1.0000, -0.5000,  0.0000,  0.5000,  1.0000],\n",
       "         [-1.0000, -0.5000,  0.0000,  0.5000,  1.0000]]], device='cuda:0')"
      ]
     },
     "execution_count": 11,
     "metadata": {},
     "output_type": "execute_result"
    }
   ],
   "source": [
    "grid[..., 0]"
   ]
  },
  {
   "cell_type": "code",
   "execution_count": 16,
   "metadata": {},
   "outputs": [
    {
     "data": {
      "text/plain": [
       "tensor([[-1.0000, -0.5000,  0.0000,  0.5000,  1.0000],\n",
       "        [-1.0000, -0.5000,  0.0000,  0.5000,  1.0000],\n",
       "        [-1.0000, -0.5000,  0.0000,  0.5000,  1.0000],\n",
       "        [-1.0000, -0.5000,  0.0000,  0.5000,  1.0000],\n",
       "        [-1.0000, -0.5000,  0.0000,  0.5000,  1.0000]])"
      ]
     },
     "execution_count": 16,
     "metadata": {},
     "output_type": "execute_result"
    }
   ],
   "source": [
    "vx = torch.linspace(-1, 1, imgSize)\n",
    "vy = torch.linspace(-1, 1, imgSize)\n",
    "grid_x, grid_y = torch.meshgrid(vx, vy, indexing=\"xy\")\n",
    "grid2 = torch.stack([grid_x, grid_y], dim=-1)\n",
    "grid2[..., 0]"
   ]
  },
  {
   "cell_type": "code",
   "execution_count": null,
   "metadata": {},
   "outputs": [],
   "source": [
    "batch = [\n",
    "    ((\"A1\", [11]), (\"B1\", [21]), [31]),\n",
    "    ((\"A2\", [12]), (\"B2\", [22]), [32]),\n",
    "    ((\"A3\", [13]), (\"B3\", [23]), [33]),\n",
    "]\n",
    "\n"
   ]
  }
 ],
 "metadata": {
  "interpreter": {
   "hash": "ab9a4cd533c26959fc5e643c878bb3c1316795e5debd5e7351e48820d8136be1"
  },
  "kernelspec": {
   "display_name": "Python 3.8.12 64-bit ('ransacflow': conda)",
   "language": "python",
   "name": "python3"
  },
  "language_info": {
   "codemirror_mode": {
    "name": "ipython",
    "version": 3
   },
   "file_extension": ".py",
   "mimetype": "text/x-python",
   "name": "python",
   "nbconvert_exporter": "python",
   "pygments_lexer": "ipython3",
   "version": "3.8.12"
  },
  "orig_nbformat": 4
 },
 "nbformat": 4,
 "nbformat_minor": 2
}
