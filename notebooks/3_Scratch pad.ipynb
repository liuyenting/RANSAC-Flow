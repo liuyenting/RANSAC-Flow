{
 "cells": [
  {
   "cell_type": "code",
   "execution_count": 25,
   "metadata": {},
   "outputs": [],
   "source": [
    "import torchvision.models as models\n",
    "from torchsummary import summary\n",
    "import torch\n",
    "import torch.nn as nn \n",
    "\n",
    "import antialiased_cnns"
   ]
  },
  {
   "cell_type": "code",
   "execution_count": 15,
   "metadata": {},
   "outputs": [],
   "source": [
    "I = torch.empty((3, 224, 224)).cuda() # BCHW"
   ]
  },
  {
   "cell_type": "code",
   "execution_count": 30,
   "metadata": {},
   "outputs": [
    {
     "name": "stdout",
     "output_type": "stream",
     "text": [
      "----------------------------------------------------------------\n",
      "        Layer (type)               Output Shape         Param #\n",
      "================================================================\n",
      "            Conv2d-1         [-1, 64, 112, 112]           9,408\n",
      "       BatchNorm2d-2         [-1, 64, 112, 112]             128\n",
      "              ReLU-3         [-1, 64, 112, 112]               0\n",
      "         MaxPool2d-4         [-1, 64, 111, 111]               0\n",
      "   ReflectionPad2d-5         [-1, 64, 114, 114]               0\n",
      "          BlurPool-6           [-1, 64, 56, 56]               0\n",
      "            Conv2d-7           [-1, 64, 56, 56]          36,864\n",
      "       BatchNorm2d-8           [-1, 64, 56, 56]             128\n",
      "              ReLU-9           [-1, 64, 56, 56]               0\n",
      "           Conv2d-10           [-1, 64, 56, 56]          36,864\n",
      "      BatchNorm2d-11           [-1, 64, 56, 56]             128\n",
      "             ReLU-12           [-1, 64, 56, 56]               0\n",
      "       BasicBlock-13           [-1, 64, 56, 56]               0\n",
      "           Conv2d-14           [-1, 64, 56, 56]          36,864\n",
      "      BatchNorm2d-15           [-1, 64, 56, 56]             128\n",
      "             ReLU-16           [-1, 64, 56, 56]               0\n",
      "           Conv2d-17           [-1, 64, 56, 56]          36,864\n",
      "      BatchNorm2d-18           [-1, 64, 56, 56]             128\n",
      "             ReLU-19           [-1, 64, 56, 56]               0\n",
      "       BasicBlock-20           [-1, 64, 56, 56]               0\n",
      "           Conv2d-21          [-1, 128, 56, 56]          73,728\n",
      "      BatchNorm2d-22          [-1, 128, 56, 56]             256\n",
      "             ReLU-23          [-1, 128, 56, 56]               0\n",
      "  ReflectionPad2d-24          [-1, 128, 59, 59]               0\n",
      "         BlurPool-25          [-1, 128, 28, 28]               0\n",
      "           Conv2d-26          [-1, 128, 28, 28]         147,456\n",
      "      BatchNorm2d-27          [-1, 128, 28, 28]             256\n",
      "  ReflectionPad2d-28           [-1, 64, 59, 59]               0\n",
      "         BlurPool-29           [-1, 64, 28, 28]               0\n",
      "           Conv2d-30          [-1, 128, 28, 28]           8,192\n",
      "      BatchNorm2d-31          [-1, 128, 28, 28]             256\n",
      "             ReLU-32          [-1, 128, 28, 28]               0\n",
      "       BasicBlock-33          [-1, 128, 28, 28]               0\n",
      "           Conv2d-34          [-1, 128, 28, 28]         147,456\n",
      "      BatchNorm2d-35          [-1, 128, 28, 28]             256\n",
      "             ReLU-36          [-1, 128, 28, 28]               0\n",
      "           Conv2d-37          [-1, 128, 28, 28]         147,456\n",
      "      BatchNorm2d-38          [-1, 128, 28, 28]             256\n",
      "             ReLU-39          [-1, 128, 28, 28]               0\n",
      "       BasicBlock-40          [-1, 128, 28, 28]               0\n",
      "           Conv2d-41          [-1, 256, 28, 28]         294,912\n",
      "      BatchNorm2d-42          [-1, 256, 28, 28]             512\n",
      "             ReLU-43          [-1, 256, 28, 28]               0\n",
      "  ReflectionPad2d-44          [-1, 256, 31, 31]               0\n",
      "         BlurPool-45          [-1, 256, 14, 14]               0\n",
      "           Conv2d-46          [-1, 256, 14, 14]         589,824\n",
      "      BatchNorm2d-47          [-1, 256, 14, 14]             512\n",
      "  ReflectionPad2d-48          [-1, 128, 31, 31]               0\n",
      "         BlurPool-49          [-1, 128, 14, 14]               0\n",
      "           Conv2d-50          [-1, 256, 14, 14]          32,768\n",
      "      BatchNorm2d-51          [-1, 256, 14, 14]             512\n",
      "             ReLU-52          [-1, 256, 14, 14]               0\n",
      "       BasicBlock-53          [-1, 256, 14, 14]               0\n",
      "           Conv2d-54          [-1, 256, 14, 14]         589,824\n",
      "      BatchNorm2d-55          [-1, 256, 14, 14]             512\n",
      "             ReLU-56          [-1, 256, 14, 14]               0\n",
      "           Conv2d-57          [-1, 256, 14, 14]         589,824\n",
      "      BatchNorm2d-58          [-1, 256, 14, 14]             512\n",
      "             ReLU-59          [-1, 256, 14, 14]               0\n",
      "       BasicBlock-60          [-1, 256, 14, 14]               0\n",
      "================================================================\n",
      "Total params: 2,782,784\n",
      "Trainable params: 2,782,784\n",
      "Non-trainable params: 0\n",
      "----------------------------------------------------------------\n",
      "Input size (MB): 0.57\n",
      "Forward/backward pass size (MB): 92.05\n",
      "Params size (MB): 10.62\n",
      "Estimated Total Size (MB): 103.24\n",
      "----------------------------------------------------------------\n"
     ]
    }
   ],
   "source": [
    "resnet = antialiased_cnns.resnet18(pool_only=True)\n",
    "\n",
    "resnet.conv1 = nn.Conv2d(3, 64, kernel_size=3, stride=1, padding=1, bias=False)\n",
    "\n",
    "layer_list = [\"conv1\", \"bn1\", \"relu\", \"maxpool\", \"layer1\", \"layer2\", \"layer3\"]\n",
    "layers = [getattr(resnet, name) for name in layer_list]\n",
    "resnet = nn.Sequential(*layers)\n",
    "\n",
    "resnet.cuda()\n",
    "summary(resnet, I.shape)\n"
   ]
  },
  {
   "cell_type": "code",
   "execution_count": 18,
   "metadata": {},
   "outputs": [],
   "source": [
    "import ransacflow.model.model_orig as model\n",
    "import torch.nn.functional as F\n",
    "import torch"
   ]
  },
  {
   "cell_type": "code",
   "execution_count": 21,
   "metadata": {},
   "outputs": [
    {
     "name": "stdout",
     "output_type": "stream",
     "text": [
      "----------------------------------------------------------------\n",
      "        Layer (type)               Output Shape         Param #\n",
      "================================================================\n",
      "            Conv2d-1         [-1, 64, 224, 224]           1,728\n",
      "       BatchNorm2d-2         [-1, 64, 224, 224]             128\n",
      "              ReLU-3         [-1, 64, 224, 224]               0\n",
      "         MaxPool2d-4         [-1, 64, 223, 223]               0\n",
      "   ReflectionPad2d-5         [-1, 64, 225, 225]               0\n",
      "        Downsample-6         [-1, 64, 112, 112]               0\n",
      "            Conv2d-7         [-1, 64, 112, 112]          36,864\n",
      "       BatchNorm2d-8         [-1, 64, 112, 112]             128\n",
      "              ReLU-9         [-1, 64, 112, 112]               0\n",
      "           Conv2d-10         [-1, 64, 112, 112]          36,864\n",
      "      BatchNorm2d-11         [-1, 64, 112, 112]             128\n",
      "             ReLU-12         [-1, 64, 112, 112]               0\n",
      "       BasicBlock-13         [-1, 64, 112, 112]               0\n",
      "           Conv2d-14         [-1, 64, 112, 112]          36,864\n",
      "      BatchNorm2d-15         [-1, 64, 112, 112]             128\n",
      "             ReLU-16         [-1, 64, 112, 112]               0\n",
      "           Conv2d-17         [-1, 64, 112, 112]          36,864\n",
      "      BatchNorm2d-18         [-1, 64, 112, 112]             128\n",
      "             ReLU-19         [-1, 64, 112, 112]               0\n",
      "       BasicBlock-20         [-1, 64, 112, 112]               0\n",
      "           Conv2d-21          [-1, 128, 56, 56]          73,728\n",
      "      BatchNorm2d-22          [-1, 128, 56, 56]             256\n",
      "             ReLU-23          [-1, 128, 56, 56]               0\n",
      "           Conv2d-24          [-1, 128, 56, 56]         147,456\n",
      "      BatchNorm2d-25          [-1, 128, 56, 56]             256\n",
      "  ReflectionPad2d-26         [-1, 64, 114, 114]               0\n",
      "       Downsample-27           [-1, 64, 56, 56]               0\n",
      "           Conv2d-28          [-1, 128, 56, 56]           8,192\n",
      "      BatchNorm2d-29          [-1, 128, 56, 56]             256\n",
      "             ReLU-30          [-1, 128, 56, 56]               0\n",
      "       BasicBlock-31          [-1, 128, 56, 56]               0\n",
      "           Conv2d-32          [-1, 128, 56, 56]         147,456\n",
      "      BatchNorm2d-33          [-1, 128, 56, 56]             256\n",
      "             ReLU-34          [-1, 128, 56, 56]               0\n",
      "           Conv2d-35          [-1, 128, 56, 56]         147,456\n",
      "      BatchNorm2d-36          [-1, 128, 56, 56]             256\n",
      "             ReLU-37          [-1, 128, 56, 56]               0\n",
      "       BasicBlock-38          [-1, 128, 56, 56]               0\n",
      "           Conv2d-39          [-1, 256, 28, 28]         294,912\n",
      "      BatchNorm2d-40          [-1, 256, 28, 28]             512\n",
      "             ReLU-41          [-1, 256, 28, 28]               0\n",
      "           Conv2d-42          [-1, 256, 28, 28]         589,824\n",
      "      BatchNorm2d-43          [-1, 256, 28, 28]             512\n",
      "  ReflectionPad2d-44          [-1, 128, 58, 58]               0\n",
      "       Downsample-45          [-1, 128, 28, 28]               0\n",
      "           Conv2d-46          [-1, 256, 28, 28]          32,768\n",
      "      BatchNorm2d-47          [-1, 256, 28, 28]             512\n",
      "             ReLU-48          [-1, 256, 28, 28]               0\n",
      "       BasicBlock-49          [-1, 256, 28, 28]               0\n",
      "           Conv2d-50          [-1, 256, 28, 28]         589,824\n",
      "      BatchNorm2d-51          [-1, 256, 28, 28]             512\n",
      "             ReLU-52          [-1, 256, 28, 28]               0\n",
      "           Conv2d-53          [-1, 256, 28, 28]         589,824\n",
      "      BatchNorm2d-54          [-1, 256, 28, 28]             512\n",
      "             ReLU-55          [-1, 256, 28, 28]               0\n",
      "       BasicBlock-56          [-1, 256, 28, 28]               0\n",
      "================================================================\n",
      "Total params: 2,775,104\n",
      "Trainable params: 2,775,104\n",
      "Non-trainable params: 0\n",
      "----------------------------------------------------------------\n",
      "Input size (MB): 0.57\n",
      "Forward/backward pass size (MB): 299.80\n",
      "Params size (MB): 10.59\n",
      "Estimated Total Size (MB): 310.96\n",
      "----------------------------------------------------------------\n"
     ]
    }
   ],
   "source": [
    "feature = model.FeatureExtractor().cuda()\n",
    "summary(feature, I.shape)"
   ]
  },
  {
   "cell_type": "markdown",
   "metadata": {},
   "source": [
    "kernelSize = 7\n",
    "batchSize = 4\n",
    "imgSize = 224\n",
    "margin = 88\n",
    "I = torch.zeros((batchSize, 3, imgSize, imgSize)) # BCHW\n"
   ]
  },
  {
   "cell_type": "code",
   "execution_count": 48,
   "metadata": {},
   "outputs": [
    {
     "name": "stdout",
     "output_type": "stream",
     "text": [
      "torch.Size([4, 3, 224, 224])\n",
      "torch.Size([8, 3, 224, 224])\n"
     ]
    }
   ],
   "source": [
    "I2 = torch.cat((I, I), dim=0).cuda()\n",
    "\n",
    "print(I.shape)\n",
    "print(I2.shape)"
   ]
  },
  {
   "cell_type": "code",
   "execution_count": 43,
   "metadata": {},
   "outputs": [
    {
     "name": "stdout",
     "output_type": "stream",
     "text": [
      "torch.Size([8])\n",
      "torch.Size([8])\n",
      "tensor([0, 1, 2, 3, 4, 5, 6, 7])\n",
      "tensor([4, 5, 6, 7, 0, 1, 2, 3])\n"
     ]
    }
   ],
   "source": [
    "index = torch.arange(batchSize * 2)\n",
    "print(index.shape)\n",
    "indexRoll = torch.roll(index, batchSize)\n",
    "print(indexRoll.shape)\n",
    "\n",
    "print(index)\n",
    "print(indexRoll)"
   ]
  },
  {
   "cell_type": "code",
   "execution_count": 51,
   "metadata": {},
   "outputs": [],
   "source": [
    "network = {\n",
    "    \"netFeatCoarse\": model.FeatureExtractor(),\n",
    "    \"netCorr\": model.CorrNeigh(kernelSize),\n",
    "    \"netFlowCoarse\": model.NetFlow(kernelSize, \"netFlowCoarse\"),\n",
    "    \"netMatch\": model.NetFlow(kernelSize, \"netMatch\"),\n",
    "}\n",
    "\n",
    "for key in list(network.keys()):\n",
    "    network[key].cuda()\n"
   ]
  },
  {
   "cell_type": "code",
   "execution_count": 52,
   "metadata": {},
   "outputs": [],
   "source": [
    "def predFlowCoarse(corrKernel, NetFlowCoarse, grid, up8X = True) :\n",
    "\n",
    "    flowCoarse = NetFlowCoarse(corrKernel, up8X) ## output is with dimension B, 2, W, H\n",
    "    _, _, w, h = flowCoarse.size()\n",
    "    flowGrad = flowCoarse.narrow(2, 1, w-1).narrow(3, 1, h-1) - flowCoarse.narrow(2, 0, w-1).narrow(3, 0, h-1)\n",
    "    flowGrad = torch.norm(flowGrad, dim=1, keepdim=True)\n",
    "    flowCoarse = flowCoarse.permute(0, 2, 3, 1)\n",
    "    flowCoarse = torch.clamp(flowCoarse + grid, min=-1, max=1)\n",
    "\n",
    "    return flowGrad, flowCoarse\n",
    "\n",
    "\n",
    "def predMatchability(corrKernel21, NetMatchability, up8X = True) :\n",
    "\n",
    "    matchability = NetMatchability(corrKernel21, up8X)\n",
    "\n",
    "    return matchability"
   ]
  },
  {
   "cell_type": "code",
   "execution_count": 53,
   "metadata": {},
   "outputs": [],
   "source": [
    "gridY = torch.linspace(-1, 1, steps = imgSize).view(1, -1, 1, 1).expand(1, imgSize,  imgSize, 1)\n",
    "gridX = torch.linspace(-1, 1, steps = imgSize).view(1, 1, -1, 1).expand(1, imgSize,  imgSize, 1)\n",
    "grid = torch.cat((gridX, gridY), dim=3).cuda()"
   ]
  },
  {
   "cell_type": "code",
   "execution_count": 63,
   "metadata": {},
   "outputs": [],
   "source": [
    "maskMargin = torch.ones(batchSize * 2, 1, imgSize - 2 * margin, imgSize - 2 * margin)\n",
    "maskMargin = F.pad(maskMargin, (margin, margin, margin, margin), \"constant\", 0)\n",
    "maskMargin = maskMargin.cuda()"
   ]
  },
  {
   "cell_type": "code",
   "execution_count": 66,
   "metadata": {},
   "outputs": [
    {
     "name": "stdout",
     "output_type": "stream",
     "text": [
      "torch.Size([8, 1, 223, 223])\n",
      "torch.Size([8, 224, 224, 2])\n",
      "torch.Size([8, 1, 224, 224])\n",
      "torch.Size([8, 1, 224, 224])\n"
     ]
    },
    {
     "name": "stderr",
     "output_type": "stream",
     "text": [
      "/home/andy/.conda/envs/ransacflow/lib/python3.8/site-packages/torch/nn/functional.py:3847: UserWarning: nn.functional.upsample_bilinear is deprecated. Use nn.functional.interpolate instead.\n",
      "  warnings.warn(\"nn.functional.upsample_bilinear is deprecated. Use nn.functional.interpolate instead.\")\n",
      "/home/andy/.conda/envs/ransacflow/lib/python3.8/site-packages/torch/nn/functional.py:4003: UserWarning: Default grid_sample and affine_grid behavior has changed to align_corners=False since 1.3.0. Please specify align_corners=True if the old behavior is desired. See the documentation of grid_sample for details.\n",
      "  warnings.warn(\n"
     ]
    }
   ],
   "source": [
    "f = F.normalize(network[\"netFeatCoarse\"](I2), p=2, dim=1)\n",
    "corr = network['netCorr'](f[indexRoll], f)\n",
    "\n",
    "finalGrad, final = model.predFlowCoarse(corr, network['netFlowCoarse'], grid)\n",
    "print(finalGrad.shape)\n",
    "print(final.shape)\n",
    "\n",
    "match = model.predMatchability(corr, network['netMatch']) * maskMargin\n",
    "print(match.shape)\n",
    "\n",
    "matchCycle = F.grid_sample(match[indexRoll], final) * match\n",
    "print(matchCycle.shape)"
   ]
  },
  {
   "cell_type": "code",
   "execution_count": 32,
   "metadata": {},
   "outputs": [
    {
     "name": "stdout",
     "output_type": "stream",
     "text": [
      "torch.Size([8, 49, 224, 224])\n"
     ]
    }
   ],
   "source": [
    "corr = network[\"netCorr\"](I2, I2)\n",
    "print(corr.shape)"
   ]
  },
  {
   "cell_type": "code",
   "execution_count": 21,
   "metadata": {},
   "outputs": [
    {
     "data": {
      "text/plain": [
       "224"
      ]
     },
     "execution_count": 21,
     "metadata": {},
     "output_type": "execute_result"
    }
   ],
   "source": [
    "28 * 8"
   ]
  },
  {
   "cell_type": "code",
   "execution_count": null,
   "metadata": {},
   "outputs": [],
   "source": []
  }
 ],
 "metadata": {
  "interpreter": {
   "hash": "ab9a4cd533c26959fc5e643c878bb3c1316795e5debd5e7351e48820d8136be1"
  },
  "kernelspec": {
   "display_name": "Python 3.8.12 64-bit ('ransacflow': conda)",
   "language": "python",
   "name": "python3"
  },
  "language_info": {
   "codemirror_mode": {
    "name": "ipython",
    "version": 3
   },
   "file_extension": ".py",
   "mimetype": "text/x-python",
   "name": "python",
   "nbconvert_exporter": "python",
   "pygments_lexer": "ipython3",
   "version": "3.8.12"
  },
  "orig_nbformat": 4
 },
 "nbformat": 4,
 "nbformat_minor": 2
}
